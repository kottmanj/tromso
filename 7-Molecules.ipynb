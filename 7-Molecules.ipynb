{
 "cells": [
  {
   "cell_type": "markdown",
   "id": "c965c7df",
   "metadata": {},
   "source": [
    "# Quantum Chemistry\n",
    "\n",
    "Simple example on:\n",
    "\n",
    "- how to create a Molecule\n",
    "- with basis sets and canonical orbitals\n",
    "- with basis sets and orthogonalized atomics\n",
    "- with MRA-PNOs"
   ]
  },
  {
   "cell_type": "code",
   "execution_count": 1,
   "id": "a13407bc",
   "metadata": {},
   "outputs": [],
   "source": [
    "import tequila as tq\n",
    "import numpy"
   ]
  },
  {
   "cell_type": "code",
   "execution_count": 2,
   "id": "8e311f8f",
   "metadata": {},
   "outputs": [],
   "source": [
    "# read from xyz file\n",
    "geometry = \"mygeom.xyz\"\n",
    "# define manually\n",
    "geometry=\"\"\"\n",
    "H 0.0 0.0 0.0\n",
    "H 0.0 0.0 1.5\n",
    "\"\"\""
   ]
  },
  {
   "cell_type": "markdown",
   "id": "30df58c5",
   "metadata": {},
   "source": [
    "## Canonical Orbitals with Standard Basis Set"
   ]
  },
  {
   "cell_type": "code",
   "execution_count": 7,
   "id": "92b166b5",
   "metadata": {},
   "outputs": [
    {
     "name": "stdout",
     "output_type": "stream",
     "text": [
      "converged SCF energy = -0.910873554594387\n",
      "basis_type      : custom\n",
      "basis_name      : sto-3g\n",
      "orbital_type    : hf\n",
      "orthogonal      : False\n",
      "functions       : 2\n",
      "reference       : [0]\n",
      "Current Orbitals\n",
      "{idx_total:0, idx:0}\n",
      "coefficients:  [0.63074567 0.63074567]\n",
      "{idx_total:1, idx:1}\n",
      "coefficients:  [ 0.82021585 -0.82021585]\n"
     ]
    }
   ],
   "source": [
    "mol = tq.Molecule(geometry=geometry, basis_set=\"sto-3g\")\n",
    "mol.print_basis_info()"
   ]
  },
  {
   "cell_type": "code",
   "execution_count": 8,
   "id": "22898c79",
   "metadata": {},
   "outputs": [
    {
     "name": "stdout",
     "output_type": "stream",
     "text": [
      "hf   /sto-3g : -0.91087\n",
      "mp2  /sto-3g : -0.95630\n",
      "ccsd /sto-3g : -0.99815\n",
      "fci  /sto-3g : -0.99815\n"
     ]
    }
   ],
   "source": [
    "classical_methods = [\"hf\", \"mp2\", \"ccsd\", \"fci\"]\n",
    "\n",
    "for method in classical_methods:\n",
    "    energy = mol.compute_energy(method)\n",
    "    print(\"{:5}/{} : {:2.5f}\".format(method, \"sto-3g\", energy))"
   ]
  },
  {
   "cell_type": "markdown",
   "id": "d8af8431",
   "metadata": {},
   "source": [
    "## Atomic Orbitals with Standard Basis Sets\n",
    "\n",
    "Often useful to define guess coefficients in orbital optimization.  \n",
    "We can create the same molecule with (symmetrically orthonormalized) atomic orbitals."
   ]
  },
  {
   "cell_type": "code",
   "execution_count": 9,
   "id": "c9d813bb",
   "metadata": {},
   "outputs": [
    {
     "name": "stdout",
     "output_type": "stream",
     "text": [
      "basis_type      : custom\n",
      "basis_name      : sto-3g\n",
      "orbital_type    : orthonormalized-orthonormalized-hf-basis-basis\n",
      "orthogonal      : False\n",
      "functions       : 2\n",
      "reference       : [0]\n",
      "Current Orbitals\n",
      "{idx_total:0, idx:0}\n",
      "coefficients:  [ 1.02598473 -0.13397565]\n",
      "{idx_total:1, idx:1}\n",
      "coefficients:  [-0.13397565  1.02598473]\n"
     ]
    }
   ],
   "source": [
    "mol_atomic = mol.use_native_orbitals()\n",
    "mol_atomic.print_basis_info()"
   ]
  },
  {
   "cell_type": "markdown",
   "id": "19ca8617",
   "metadata": {},
   "source": [
    "## MRA-PNOs with Madness\n",
    "\n",
    "Create a MP2-PNO basis from scratch (+ some more approximations).  \n",
    "The PNOs are determined within madness in a MRA representation.  \n",
    "This is the default, if no basis set is given.\n"
   ]
  },
  {
   "cell_type": "code",
   "execution_count": 11,
   "id": "68f83a8c",
   "metadata": {},
   "outputs": [
    {
     "name": "stdout",
     "output_type": "stream",
     "text": [
      "basis_type      : custom\n",
      "basis_name      : custom\n",
      "orbital_type    : pno\n",
      "orthogonal      : True\n",
      "functions       : 2\n",
      "reference       : [0]\n",
      "Current Orbitals\n",
      "{idx_total:0, idx:0, occ:2.0, pair:(0, 0)}\n",
      "coefficients:  [1. 0.]\n",
      "{idx_total:1, idx:1, occ:0.0425791, pair:(0, 0)}\n",
      "coefficients:  [0. 1.]\n"
     ]
    }
   ],
   "source": [
    "mol_pno = tq.Molecule(geometry=geometry)\n",
    "mol_pno.print_basis_info()"
   ]
  },
  {
   "cell_type": "markdown",
   "id": "b3d4f151",
   "metadata": {},
   "source": [
    "## Create Qubit Hamiltonians"
   ]
  },
  {
   "cell_type": "code",
   "execution_count": 14,
   "id": "28e68c6b",
   "metadata": {},
   "outputs": [
    {
     "name": "stdout",
     "output_type": "stream",
     "text": [
      "-0.4918+0.0935Z(0)+0.0935Z(1)-0.0356Z(2)-0.0356Z(3)+0.1382Z(0)Z(1)+0.0574Y(0)X(1)X(2)Y(3)-0.0574Y(0)Y(1)X(2)X(3)-0.0574X(0)X(1)Y(2)Y(3)+0.0574X(0)Y(1)Y(2)X(3)+0.0825Z(0)Z(2)+0.1399Z(0)Z(3)+0.1399Z(1)Z(2)+0.0825Z(1)Z(3)+0.1459Z(2)Z(3)\n",
      "-0.4918+0.0289Z(0)-0.0646Y(0)Z(1)Y(2)-0.0646X(0)Z(1)X(2)+0.0289Z(1)-0.0646Y(1)Z(2)Y(3)-0.0646X(1)Z(2)X(3)+0.0289Z(2)+0.0289Z(3)+0.1984Z(0)Z(1)+0.0019Y(0)Y(2)+0.0019X(0)X(2)+0.0019Z(0)Y(1)Z(2)Y(3)+0.0019Z(0)X(1)Z(2)X(3)+0.0010Y(0)X(1)X(2)Y(3)-0.0010Y(0)Y(1)X(2)X(3)-0.0010X(0)X(1)Y(2)Y(3)+0.0010X(0)Y(1)Y(2)X(3)+0.0825Z(0)Z(2)+0.0836Z(0)Z(3)+0.0019Y(0)Z(1)Y(2)Z(3)+0.0019X(0)Z(1)X(2)Z(3)+0.0836Z(1)Z(2)+0.0019Y(1)Y(3)+0.0019X(1)X(3)+0.0825Z(1)Z(3)+0.1984Z(2)Z(3)\n",
      "-0.5759+0.1321Z(0)+0.1321Z(1)-0.0051Z(2)-0.0051Z(3)+0.1191Z(0)Z(1)+0.0426Y(0)X(1)X(2)Y(3)-0.0426Y(0)Y(1)X(2)X(3)-0.0426X(0)X(1)Y(2)Y(3)+0.0426X(0)Y(1)Y(2)X(3)+0.0824Z(0)Z(2)+0.1250Z(0)Z(3)+0.1250Z(1)Z(2)+0.0824Z(1)Z(3)+0.1409Z(2)Z(3)\n"
     ]
    }
   ],
   "source": [
    "H1 = mol.make_hamiltonian()\n",
    "H2 = mol_atomic.make_hamiltonian()\n",
    "H3 = mol_pno.make_hamiltonian()\n",
    "\n",
    "print(H1)\n",
    "print(H2)\n",
    "print(H3)"
   ]
  },
  {
   "cell_type": "markdown",
   "id": "c5797c64",
   "metadata": {},
   "source": [
    "# Exercise\n",
    "\n",
    "Design a small circuit on 4 qubits. Solve the VQE for the three Hamiltonians. "
   ]
  },
  {
   "cell_type": "markdown",
   "id": "011dd86e",
   "metadata": {},
   "source": [
    "## Unitary Coupled-Cluster\n",
    "\n",
    "Basic building blocks for quantum circuits from unitary coupled-cluster are\n",
    "\n",
    "$$\n",
    "U(\\theta) = e^{-i\\frac{\\theta}{2} G}\n",
    "$$\n",
    "\n",
    "with \n",
    "\n",
    "$$\n",
    "G = -i \\left( a_{k_0}^\\dagger a_{k_0} a_{k_1}^\\dagger a_{k_1} \\dots - h.c\\right)\n",
    "$$\n",
    "\n",
    "where $k_i$ indexes spin-orbitals (even ones are spin up, odd ones spin-down). In the Jordan Wigner Encoding (default in tequila) this corresponds to qubits.\n",
    "\n",
    "Example: \n",
    "\n",
    "$$U \\;\\; \\text{ with } \\;\\;\n",
    "G = -i \\left( a_{3}^\\dagger a_{2} a_{1}^\\dagger a_{3} \\dots - h.c\\right)\n",
    "$$"
   ]
  },
  {
   "cell_type": "code",
   "execution_count": 17,
   "id": "ffd549d2",
   "metadata": {},
   "outputs": [],
   "source": [
    "U = mol.make_excitation_gate(indices=[(0,2),(1,3)], angle=\"a\")"
   ]
  },
  {
   "cell_type": "markdown",
   "id": "deac753a",
   "metadata": {},
   "source": [
    "## Exercise\n",
    "\n",
    "Design a small circuit on 4 qubits using the UCC gates. Solve the VQE for the three Hamiltonians.\n",
    "Hint: Start with the circuit below (why?)."
   ]
  },
  {
   "cell_type": "code",
   "execution_count": 19,
   "id": "109a6725",
   "metadata": {},
   "outputs": [],
   "source": [
    "U = tq.gates.X(0) + tq.gates.X(1)"
   ]
  },
  {
   "cell_type": "code",
   "execution_count": null,
   "id": "a3383ead",
   "metadata": {},
   "outputs": [],
   "source": []
  }
 ],
 "metadata": {
  "kernelspec": {
   "display_name": "tromso",
   "language": "python",
   "name": "tromso"
  },
  "language_info": {
   "codemirror_mode": {
    "name": "ipython",
    "version": 3
   },
   "file_extension": ".py",
   "mimetype": "text/x-python",
   "name": "python",
   "nbconvert_exporter": "python",
   "pygments_lexer": "ipython3",
   "version": "3.9.13"
  }
 },
 "nbformat": 4,
 "nbformat_minor": 5
}
