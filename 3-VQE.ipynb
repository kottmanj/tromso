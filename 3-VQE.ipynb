{
 "cells": [
  {
   "cell_type": "markdown",
   "id": "1370ff30",
   "metadata": {},
   "source": [
    "# Single-Qubit Variational Quantum Eigensolver"
   ]
  },
  {
   "cell_type": "code",
   "execution_count": 1,
   "id": "beb27dc8",
   "metadata": {},
   "outputs": [],
   "source": [
    "import tequila as tq\n",
    "import numpy"
   ]
  },
  {
   "cell_type": "markdown",
   "id": "9ebc1ea9",
   "metadata": {},
   "source": [
    "We will try to realize a single-qubit version of variational quantum eigensolver (VQE), that is a minimization of a single qubit expectation value. We will take the one from the last exercise:\n",
    "\n",
    "$$ E = \\langle \\Psi \\rvert H \\langle \\Psi \\rangle $$  \n",
    "\n",
    "$$ H = \\sigma_x $$  \n",
    "\n",
    "$$ \\lvert\\Psi(a)\\rangle = U(a)\\lvert 0 \\rangle $$\n",
    "\n",
    "$$ U(a) = e^{-i\\frac{a}{2}\\sigma_y} $$"
   ]
  },
  {
   "cell_type": "markdown",
   "id": "9cc96017",
   "metadata": {},
   "source": [
    "## Exercise: Initialize the expectation value\n",
    "\n",
    "We have seen before how to initialize, compile, and evaluate abstract expectation values. Try to recreate it here by redefining the object E"
   ]
  },
  {
   "cell_type": "code",
   "execution_count": 5,
   "id": "a67b2105",
   "metadata": {},
   "outputs": [],
   "source": [
    "# replace E\n",
    "E = tq.Objective()"
   ]
  },
  {
   "cell_type": "markdown",
   "id": "2f3daa33",
   "metadata": {},
   "source": [
    "We can minimize tequila objects with `tq.minimize` "
   ]
  },
  {
   "cell_type": "code",
   "execution_count": 16,
   "id": "c584703f",
   "metadata": {},
   "outputs": [],
   "source": [
    "result = tq.minimize(E)\n",
    "\n",
    "energy = result.energy\n",
    "optimal_variables = result.variables\n",
    "history = result.history"
   ]
  },
  {
   "cell_type": "markdown",
   "id": "4b9230e5",
   "metadata": {},
   "source": [
    "If we now want to evaluate our original expectation value E at the optimized angles, we just do"
   ]
  },
  {
   "cell_type": "code",
   "execution_count": 17,
   "id": "60b4edb3",
   "metadata": {},
   "outputs": [
    {
     "name": "stdout",
     "output_type": "stream",
     "text": [
      "0.0 vs 0.0 | should be the same\n"
     ]
    }
   ],
   "source": [
    "f = tq.compile(E)\n",
    "optimal_energy = f(optimal_variables)\n",
    "print(\"{} vs {} | should be the same\".format(optimal_energy, energy))"
   ]
  },
  {
   "cell_type": "markdown",
   "id": "6eb2eaab",
   "metadata": {},
   "source": [
    "## Exercise: Evaluate the gradient of E at the optimized angles\n",
    "It should be zero\n"
   ]
  },
  {
   "cell_type": "code",
   "execution_count": null,
   "id": "3a1c511d",
   "metadata": {},
   "outputs": [],
   "source": []
  }
 ],
 "metadata": {
  "kernelspec": {
   "display_name": "tq-pypi",
   "language": "python",
   "name": "tq-pypi"
  },
  "language_info": {
   "codemirror_mode": {
    "name": "ipython",
    "version": 3
   },
   "file_extension": ".py",
   "mimetype": "text/x-python",
   "name": "python",
   "nbconvert_exporter": "python",
   "pygments_lexer": "ipython3",
   "version": "3.9.16"
  }
 },
 "nbformat": 4,
 "nbformat_minor": 5
}
