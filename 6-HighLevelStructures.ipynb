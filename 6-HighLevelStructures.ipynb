{
 "cells": [
  {
   "cell_type": "markdown",
   "id": "6b5b39af",
   "metadata": {},
   "source": [
    "# High-Level Structures\n",
    "\n",
    "We have seen before how to deal with `tq.Objective`s (functions of abstract expectation values). In the following we learn about two supported high-level structures that can come in Handy in some situations.\n",
    "\n",
    "- `tq.QTensor`: tensors of `tq.Objectives` with similar behaviour and usage (basically a numpy.ndarray with `tq.Objective` as datatype + some convenience)\n",
    "- `tq.BraKet`: general transition elements $\\langle \\Psi_1 \\rvert H \\lvert \\Psi_0 \\rangle$ automatically decomposed into the `tq.Objective` format."
   ]
  },
  {
   "cell_type": "code",
   "execution_count": 1,
   "id": "aaf25fda",
   "metadata": {},
   "outputs": [],
   "source": [
    "import tequila as tq\n",
    "import numpy"
   ]
  },
  {
   "cell_type": "markdown",
   "id": "a55df289",
   "metadata": {},
   "source": [
    "## BraKets\n",
    "\n",
    "The usage is straightforward. One potential stepstone: $\\langle \\Psi_1 \\rvert H \\lvert \\Psi_0 \\rangle$ are complex values. In order to stay consistent with the system we need all elements to evaluate to real values, so the real and imaginary part of the BraKet are treated separately."
   ]
  },
  {
   "cell_type": "code",
   "execution_count": 30,
   "id": "918d63c5",
   "metadata": {},
   "outputs": [],
   "source": [
    "U0 = tq.gates.Ry(\"a\",0)\n",
    "U1 = tq.gates.H(0) + tq.gates.CNOT(0,1)\n",
    "H = tq.paulis.X(0)*tq.paulis.Z(1)\n",
    "\n",
    "real, imag = tq.BraKet(bra=U0, ket=U1, operator=H)"
   ]
  },
  {
   "cell_type": "code",
   "execution_count": 31,
   "id": "63498169",
   "metadata": {},
   "outputs": [
    {
     "name": "stdout",
     "output_type": "stream",
     "text": [
      "Objective with 1 unique expectation values\n",
      "total measurements = 1\n",
      "variables          = [a]\n",
      "types              = not compiled\n"
     ]
    }
   ],
   "source": [
    "print(real)"
   ]
  },
  {
   "cell_type": "code",
   "execution_count": 32,
   "id": "d3083e39",
   "metadata": {},
   "outputs": [
    {
     "name": "stdout",
     "output_type": "stream",
     "text": [
      "circuit on 3 qubits\n",
      "circuit: \n",
      "H(target=(2,))\n",
      "X(target=(2,))\n",
      "Ry(target=(0,), control=(2,), parameter=a)\n",
      "X(target=(2,))\n",
      "H(target=(0,), control=(2,))\n",
      "X(target=(1,), control=(0, 2))\n",
      "X(target=(0,), control=(2,))\n",
      "Z(target=(1,), control=(2,))\n",
      "\n"
     ]
    }
   ],
   "source": [
    "# let's see how the circuits changed\n",
    "for ev in real.get_expectationvalues():\n",
    "    circuit = ev.U\n",
    "    print(\"circuit on {} qubits\".format(circuit.n_qubits))\n",
    "    print(circuit)"
   ]
  },
  {
   "cell_type": "markdown",
   "id": "ada57f27",
   "metadata": {},
   "source": [
    "## QTensors\n",
    "\n",
    "We can initialize QTensors like numpy.ndarrays. Important to note: It is not necessary to evaluate the expectation values. Here is a small example that introduces a small matrix and a vector consisting of `tq.Objective`s (some parametrized, some not) and real numbers."
   ]
  },
  {
   "cell_type": "code",
   "execution_count": 33,
   "id": "0f683dfb",
   "metadata": {},
   "outputs": [],
   "source": [
    "# initializing some structures\n",
    "U0 = tq.gates.Rp(paulistring=\"Y(0)\",angle=\"a\")\n",
    "U1 = tq.gates.Rp(paulistring=\"Y(0)\",angle=1.0)\n",
    "H0 = tq.paulis.X(0)\n",
    "\n",
    "E0 = tq.ExpectationValue(H=H0, U=U0)\n",
    "E1 = tq.ExpectationValue(H=H0, U=U1)\n",
    "F0, F1 = tq.BraKet(bra=U0, ket=U1)\n",
    "\n",
    "# initialize the QTensors\n",
    "M = tq.QTensor([E0,E1,F0,1.0], shape=[2,2])\n",
    "V = tq.QTensor([1.0,F1], shape=[2,])\n",
    "\n",
    "# operate on them\n",
    "W = M.dot(V)"
   ]
  },
  {
   "cell_type": "markdown",
   "id": "2d906630",
   "metadata": {},
   "source": [
    "Let's see what we got "
   ]
  },
  {
   "cell_type": "code",
   "execution_count": 34,
   "id": "4f7a832f",
   "metadata": {},
   "outputs": [
    {
     "name": "stdout",
     "output_type": "stream",
     "text": [
      "abstract structure\n",
      "QTensor of shape (2,) with 4 unique expectation values\n",
      "total measurements = 4\n",
      "variables          = [a]\n",
      "types              = not compiled\n",
      "\n",
      "\n",
      "callable structure\n",
      "QTensor of shape (2,) with 5 unique expectation values\n",
      "total measurements = 5\n",
      "variables          = [a]\n",
      "types              = [<class 'tequila.simulators.simulator_qulacs.BackendExpectationValueQulacs'>]\n",
      "\n",
      "\n",
      "evaluated structure\n",
      "[0.84147098 1.        ]\n"
     ]
    }
   ],
   "source": [
    "print(\"abstract structure\")\n",
    "print(W)\n",
    "\n",
    "# proceed like before with standard scalar objectives\n",
    "callable_W = tq.compile(W)\n",
    "\n",
    "print(\"\\n\\ncallable structure\")\n",
    "print(callable_W)\n",
    "\n",
    "evaluated = callable_W(variables={\"a\":1.0})\n",
    "print(\"\\n\\nevaluated structure\")\n",
    "print(evaluated)"
   ]
  },
  {
   "cell_type": "markdown",
   "id": "ef35469d",
   "metadata": {},
   "source": [
    "## Further reading"
   ]
  },
  {
   "cell_type": "markdown",
   "id": "488670de",
   "metadata": {},
   "source": [
    "### Code\n",
    "\n",
    "- Example of a Quantum Krylov Method (QKM) by Francesco Scala  \n",
    "https://github.com/tequilahub/tequila-tutorials/blob/main/KrylovTutorial.ipynb\n",
    "\n",
    "- More information on the QTensor class by Gaurav Saxena  \n",
    "https://github.com/tequilahub/tequila-tutorials/blob/main/QTensor.ipynb\n",
    "\n",
    "- More information on the BraKet feature by Francesco Scala  \n",
    "https://github.com/tequilahub/tequila-tutorials/blob/main/BraketTutorial.ipynb\n",
    "\n",
    "### Literature\n",
    "\n",
    "Some methods, where the structures above come in handy:\n",
    "\n",
    "- https://arxiv.org/abs/2302.10660 (using the tq implementation, explicit code example in appendix, accelerated [code](https://github.com/tequilahub/compact-bases))\n",
    "- https://arxiv.org/abs/1911.05163 (one of the first quantum krylov approaches in QChem, [code](https://github.com/evangelistalab/qforte))\n",
    "- https://arxiv.org/abs/1909.09114 (non-variational quantum eigensolver, no code)"
   ]
  },
  {
   "cell_type": "code",
   "execution_count": null,
   "id": "4ae59a6a",
   "metadata": {},
   "outputs": [],
   "source": []
  }
 ],
 "metadata": {
  "kernelspec": {
   "display_name": "tq-pypi",
   "language": "python",
   "name": "tq-pypi"
  },
  "language_info": {
   "codemirror_mode": {
    "name": "ipython",
    "version": 3
   },
   "file_extension": ".py",
   "mimetype": "text/x-python",
   "name": "python",
   "nbconvert_exporter": "python",
   "pygments_lexer": "ipython3",
   "version": "3.9.16"
  }
 },
 "nbformat": 4,
 "nbformat_minor": 5
}
