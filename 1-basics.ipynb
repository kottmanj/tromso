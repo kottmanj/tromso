{
 "cells": [
  {
   "cell_type": "markdown",
   "id": "6235b622",
   "metadata": {},
   "source": [
    "# Basic Structures"
   ]
  },
  {
   "cell_type": "code",
   "execution_count": 1,
   "id": "fc7cba01",
   "metadata": {},
   "outputs": [],
   "source": [
    "import tequila as tq\n",
    "import numpy"
   ]
  },
  {
   "cell_type": "markdown",
   "id": "9cca8830",
   "metadata": {},
   "source": [
    "In quantum computing you can basically represent everything with Paulistrings - tensor products of Pauli matrices. In tequila a Paulistring $P$ can be used to initialize Hamiltonians (that will define measurements)\n",
    "$$\n",
    "H = \\sum_k c_k P_k\n",
    "$$\n",
    "and quantum gates as\n",
    "$$\n",
    "U(a) = e^{-i\\frac{a}{2} P}\n",
    "$$\n",
    "where the minus and the 1/2 are convention.  "
   ]
  },
  {
   "cell_type": "markdown",
   "id": "5e2d0113",
   "metadata": {},
   "source": [
    "## Hamiltonians\n",
    "\n",
    "Here are some examples on how to initialize Hamiltonians on qubits"
   ]
  },
  {
   "cell_type": "code",
   "execution_count": 6,
   "id": "1b00b7e6",
   "metadata": {},
   "outputs": [
    {
     "name": "stdout",
     "output_type": "stream",
     "text": [
      "+1.0000X(0)Y(1)\n"
     ]
    }
   ],
   "source": [
    "P = tq.QubitHamiltonian(\"X(0)Y(1)\") # string based\n",
    "P = tq.paulis.X(0)*tq.paulis.Y(1) \n",
    "print(P)"
   ]
  },
  {
   "cell_type": "code",
   "execution_count": 7,
   "id": "b683dc40",
   "metadata": {},
   "outputs": [
    {
     "name": "stdout",
     "output_type": "stream",
     "text": [
      "+1.0000X(0)Y(1)+1.0000X(0)X(1)+2.0000\n"
     ]
    }
   ],
   "source": [
    "H = P + tq.paulis.X([0,1]) + 2.0\n",
    "print(H)"
   ]
  },
  {
   "cell_type": "markdown",
   "id": "e986342c",
   "metadata": {},
   "source": [
    "Often useful for demonstrations: You can convert to a full matrix (not recommended for large qubit numbers though)."
   ]
  },
  {
   "cell_type": "code",
   "execution_count": 8,
   "id": "5aae5549",
   "metadata": {},
   "outputs": [
    {
     "name": "stdout",
     "output_type": "stream",
     "text": [
      "[[2.+0.j 0.+0.j 0.+0.j 1.-1.j]\n",
      " [0.+0.j 2.+0.j 1.+1.j 0.+0.j]\n",
      " [0.+0.j 1.-1.j 2.+0.j 0.+0.j]\n",
      " [1.+1.j 0.+0.j 0.+0.j 2.+0.j]]\n"
     ]
    }
   ],
   "source": [
    "matrix = H.to_matrix()\n",
    "print(matrix)"
   ]
  },
  {
   "cell_type": "markdown",
   "id": "b0c807d0",
   "metadata": {},
   "source": [
    "Some convenience functions are implemented, like `tq.paulis.Projector` that realizes the projector\n",
    "\n",
    "$$\n",
    "P_\\Psi = \\lvert \\Psi \\rangle\\langle \\Psi \\rvert\n",
    "$$\n",
    "\n",
    "as a sum over Paulistrings. The Wavefunction can be given in the form of a `tq.QubitWaveFunction` (either returned from a simulation or manually initialized from strings or arrays)."
   ]
  },
  {
   "cell_type": "code",
   "execution_count": 16,
   "id": "1e31329d",
   "metadata": {},
   "outputs": [
    {
     "name": "stdout",
     "output_type": "stream",
     "text": [
      "+0.5000-0.5000Z(0)Z(1)+0.5000X(0)X(1)+0.5000Y(0)Y(1)\n",
      "+1.0000-1.0000Z(0)Z(1)+1.0000X(0)X(1)+1.0000Y(0)Y(1)\n"
     ]
    }
   ],
   "source": [
    "wfn = \"1.0|10> + 1.0|01>\"\n",
    "Proj = tq.paulis.Projector(wfn)\n",
    "print(Proj)\n",
    "print(Proj*Proj) # wfn was not normalized in this example"
   ]
  },
  {
   "cell_type": "code",
   "execution_count": 17,
   "id": "8fc5335d",
   "metadata": {},
   "outputs": [
    {
     "name": "stdout",
     "output_type": "stream",
     "text": [
      "+0.2500-0.2500Z(0)Z(1)+0.2500X(0)X(1)+0.2500Y(0)Y(1)\n",
      "+0.2500-0.2500Z(0)Z(1)+0.2500X(0)X(1)+0.2500Y(0)Y(1)\n"
     ]
    }
   ],
   "source": [
    "wfn = tq.QubitWaveFunction(\"1.0|10> + 1.0|01>\").normalize()\n",
    "Proj = tq.paulis.Projector(wfn)\n",
    "print(Proj)\n",
    "print(Proj*Proj)"
   ]
  },
  {
   "cell_type": "code",
   "execution_count": 20,
   "id": "8e86fa54",
   "metadata": {},
   "outputs": [
    {
     "name": "stdout",
     "output_type": "stream",
     "text": [
      "+0.2500+0.2500Z(0)Z(1)-0.1768X(0)X(1)-0.1768X(0)Y(1)-0.1768Y(0)X(1)+0.1768Y(0)Y(1)\n",
      "+0.2500+0.2500Z(0)Z(1)-0.1768X(0)X(1)-0.1768X(0)Y(1)-0.1768Y(0)X(1)+0.1768Y(0)Y(1)+0.0000iZ(1)+0.0000iZ(0)\n"
     ]
    }
   ],
   "source": [
    "# array based\n",
    "v,vv = numpy.linalg.eigh(H.to_matrix())\n",
    "wfn = tq.QubitWaveFunction(vv[:,0])\n",
    "Proj = tq.paulis.Projector(wfn)\n",
    "print(Proj)\n",
    "print(Proj*Proj)"
   ]
  },
  {
   "cell_type": "markdown",
   "id": "93ac0b13",
   "metadata": {},
   "source": [
    "## Circuits\n",
    "\n",
    "Circuits can be assembled from primitive Pauli-rotations. All gates can be controlled with the keyword `control=[list of qubits]` and parametrized with the keyword `angle=number/abstract-tequila-object`."
   ]
  },
  {
   "cell_type": "code",
   "execution_count": 31,
   "id": "655dc291",
   "metadata": {},
   "outputs": [
    {
     "name": "stdout",
     "output_type": "stream",
     "text": [
      "circuit: \n",
      "Exp-Pauli(target=(0, 1), control=(), parameter=1.0, paulistring=X(0)Y(1))\n",
      "Exp-Pauli(target=(0, 1), control=(), parameter=1.0, paulistring=Y(0)X(1))\n",
      "\n",
      "U|00> =  +0.5403|00> +0.8415|11> \n"
     ]
    }
   ],
   "source": [
    "U = tq.gates.Rp(paulistring=\"X(0)Y(1)\", angle=1.0)\n",
    "U+= tq.gates.Rp(paulistring=\"Y(0)X(1)\", angle=1.0)\n",
    "\n",
    "wfn = tq.simulate(U)\n",
    "print(U)\n",
    "print(\"U|00> = \", wfn)"
   ]
  },
  {
   "cell_type": "markdown",
   "id": "2351932c",
   "metadata": {},
   "source": [
    "## More on circuits\n",
    "\n",
    "If you prefer typical gates, you can compile the circuits.  \n",
    "More information on tequila circuits can be found here: https://jakobkottmann.com/posts/tq-circuits/"
   ]
  },
  {
   "cell_type": "code",
   "execution_count": 29,
   "id": "f3fadd96",
   "metadata": {},
   "outputs": [
    {
     "name": "stdout",
     "output_type": "stream",
     "text": [
      "circuit: \n",
      "Ry(target=(0,), parameter=-1.5707963267948966)\n",
      "Rx(target=(1,), parameter=1.5707963267948966)\n",
      "X(target=(1,), control=(0,))\n",
      "Rz(target=(1,), parameter=1.0)\n",
      "X(target=(1,), control=(0,))\n",
      "Ry(target=(0,), parameter=1.5707963267948966)\n",
      "Rx(target=(1,), parameter=-1.5707963267948966)\n",
      "Rx(target=(0,), parameter=1.5707963267948966)\n",
      "Ry(target=(1,), parameter=-1.5707963267948966)\n",
      "X(target=(1,), control=(0,))\n",
      "Rz(target=(1,), parameter=1.0)\n",
      "X(target=(1,), control=(0,))\n",
      "Rx(target=(0,), parameter=-1.5707963267948966)\n",
      "Ry(target=(1,), parameter=1.5707963267948966)\n",
      "\n",
      "0: ───Y^-0.5───@─────────────@───Y^0.5────X^0.5────@─────────────@───X^-0.5───\n",
      "               │             │                     │             │\n",
      "1: ───X^0.5────X───Z^0.318───X───X^-0.5───Y^-0.5───X───Z^0.318───X───Y^0.5────\n"
     ]
    },
    {
     "data": {
      "text/plain": [
       "''"
      ]
     },
     "execution_count": 29,
     "metadata": {},
     "output_type": "execute_result"
    }
   ],
   "source": [
    "U = tq.compile_circuit(U)\n",
    "print(U)\n",
    "tq.draw(U) # uses cirq (change with backend=...)"
   ]
  },
  {
   "cell_type": "code",
   "execution_count": 28,
   "id": "f8f2b044",
   "metadata": {},
   "outputs": [
    {
     "data": {
      "text/plain": [
       "circuit: \n",
       "H(target=(0,))"
      ]
     },
     "execution_count": 28,
     "metadata": {},
     "output_type": "execute_result"
    }
   ],
   "source": [
    "# useful\n",
    "tq.gates.CNOT(0,1)\n",
    "tq.gates.X(0, control=1) # same as above\n",
    "tq.gates.Toffoli(0,1,2)\n",
    "tq.gates.X(0, control=[1,2]) # same as Tofolli\n",
    "tq.gates.SWAP(0,1)\n",
    "tq.gates.H(0)"
   ]
  },
  {
   "cell_type": "markdown",
   "id": "dea68434",
   "metadata": {},
   "source": [
    "# Wavefunctions\n",
    "\n",
    "The `tq.QubitWaveFunction` is a primitive class that is convenient for some things, but it is not how tequila is supposed to be used (as we cannot access wavefunctions directly). Here are however a few features that sometimes come in handy when debugging or illustrating concepts"
   ]
  },
  {
   "cell_type": "code",
   "execution_count": 32,
   "id": "9713e9ed",
   "metadata": {},
   "outputs": [],
   "source": [
    "# initialization\n",
    "wfn = tq.QubitWaveFunction(\"1.0|00> + 1.0|11>\")\n",
    "wfn = tq.QubitWaveFunction([1.0,0.0,0.0,1.0])\n",
    "# inner products\n",
    "c=wfn.inner(wfn)\n",
    "# normalization\n",
    "wfn=wfn.normalize()\n",
    "# apply Paulistrings (does not work with circuits -- could be realized though)\n",
    "op = tq.paulis.X(0)\n",
    "wfn2 = op(wfn)"
   ]
  },
  {
   "cell_type": "markdown",
   "id": "a31bcd2e",
   "metadata": {},
   "source": [
    "## Exercise\n",
    "\n",
    "As it is not the main focus of tequila, we currently don't have a `U.to_matrix()` function for a quantum circuit. For circuits consisting of Pauli-Gates, this can however be realized via the following formula\n",
    "\n",
    "$$\n",
    "e^{-i\\frac{a}{2}P} = \\cos\\left(\\frac{a}{2}\\right) -i \\left(\\frac{a}{2}\\right)P\n",
    "$$\n",
    "\n",
    "Try to write a function that converts a tequila circuit into a matrix. Assume that all gates are Pauli-Gates."
   ]
  },
  {
   "cell_type": "code",
   "execution_count": 42,
   "id": "e10c8b18",
   "metadata": {},
   "outputs": [
    {
     "name": "stdout",
     "output_type": "stream",
     "text": [
      "-1.0000iX(0)\n"
     ]
    }
   ],
   "source": [
    "# example\n",
    "\n",
    "U = tq.gates.Rp(paulistring=\"X(0)\", angle=numpy.pi)\n",
    "\n",
    "M = 0.0\n",
    "for gate in U.gates:\n",
    "    G = gate.make_generator()\n",
    "    a = gate.parameter\n",
    "    m = tq.numpy.cos(a/2) - 1.0j*tq.numpy.sin(a/2)*G\n",
    "    M += m\n",
    "    \n",
    "print(M)\n"
   ]
  },
  {
   "cell_type": "markdown",
   "id": "c67bdf0f",
   "metadata": {},
   "source": [
    "## For Experts:"
   ]
  },
  {
   "cell_type": "code",
   "execution_count": 50,
   "id": "b27f8e29",
   "metadata": {},
   "outputs": [
    {
     "name": "stdout",
     "output_type": "stream",
     "text": [
      "+1.0000X(0)Y(1)   1  primitives\n",
      "+1.0000Z(0)Y(1)   1  primitives\n",
      "+1.0000X(0)Y(1)+1.0000   1  primitives\n",
      "+1.0000X(0)Y(1)+1.0000Z(0)Y(1)   2  primitives\n"
     ]
    }
   ],
   "source": [
    "# if you want to be rigorous, you can check if the generator is a single Pauli string\n",
    "H1 = tq.paulis.X(0)*tq.paulis.Y(1)\n",
    "H2 = tq.paulis.Z(0)*tq.paulis.Y(1)\n",
    "H3 = H1 + H2\n",
    "print(H1, \" \", len(H1), \" primitives\")\n",
    "print(H2, \" \", len(H2), \" primitives\")\n",
    "print(H1 + 1.0, \" \", len(H1), \" primitives\") # will ignore global phases\n",
    "print(H3, \" \", len(H3), \" primitives\")\n",
    "\n",
    "# and assure with gate.is_controlled() that there are no control qubits on the gate\n",
    "# with `make_generator(include_control_qubits=True)` you can get the generator for the controlled gate\n",
    "# which allows you to decompose the controlled-Pauli-Gate into a sequence of two primitive Pauli Gates"
   ]
  },
  {
   "cell_type": "code",
   "execution_count": null,
   "id": "1d6bf9cf",
   "metadata": {},
   "outputs": [],
   "source": []
  }
 ],
 "metadata": {
  "kernelspec": {
   "display_name": "tq-pypi",
   "language": "python",
   "name": "tq-pypi"
  },
  "language_info": {
   "codemirror_mode": {
    "name": "ipython",
    "version": 3
   },
   "file_extension": ".py",
   "mimetype": "text/x-python",
   "name": "python",
   "nbconvert_exporter": "python",
   "pygments_lexer": "ipython3",
   "version": "3.9.16"
  }
 },
 "nbformat": 4,
 "nbformat_minor": 5
}
